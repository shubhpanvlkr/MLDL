{
 "cells": [
  {
   "cell_type": "markdown",
   "id": "5f2e5cd5",
   "metadata": {},
   "source": [
    "Q.1\n",
    "\n",
    "Create the below pattern using nested for loop in Python.\n",
    "*\n",
    "**\n",
    "***\n",
    "****\n",
    "*****\n",
    "****\n",
    "***\n",
    "**\n",
    "*"
   ]
  },
  {
   "cell_type": "code",
   "execution_count": 49,
   "id": "e43e5508",
   "metadata": {},
   "outputs": [
    {
     "name": "stdout",
     "output_type": "stream",
     "text": [
      "Enter number of rows: 4\n",
      "*\n",
      "* *\n",
      "* * *\n",
      "* * * *\n",
      "* * * * *\n",
      "* * * *\n",
      "* * *\n",
      "* *\n",
      "*\n"
     ]
    }
   ],
   "source": [
    "n = int(input(\"Enter number of rows: \"))\n",
    "#1st pattern\n",
    "for x in range(0, n):\n",
    "    if x == 0:\n",
    "        print(\"*\")\n",
    "    for y in range(0, x + 1):\n",
    "        print(\"*\", end = \" \")\n",
    "    print(\"*\")\n",
    "\n",
    "#2nd pattern\n",
    "for x in range(n, 0, -1):\n",
    "    for y in range(0, x - 1):\n",
    "        print(\"*\", end = \" \")\n",
    "    print(\"*\")"
   ]
  },
  {
   "cell_type": "markdown",
   "id": "089ecf71",
   "metadata": {},
   "source": [
    "2. Write a Python program to reverse a word after accepting the input from the user."
   ]
  },
  {
   "cell_type": "code",
   "execution_count": 51,
   "id": "795d4a0e",
   "metadata": {},
   "outputs": [
    {
     "name": "stdout",
     "output_type": "stream",
     "text": [
      "Enter the string: ineuron\n",
      "Reverse order of string: ---- norueni\n"
     ]
    }
   ],
   "source": [
    "string =  input(\"Enter the string: \")\n",
    "reverse = string[::-1]\n",
    "print(f\"Reverse order of string: ---- {reverse}\")"
   ]
  },
  {
   "cell_type": "code",
   "execution_count": null,
   "id": "705861e8",
   "metadata": {},
   "outputs": [],
   "source": []
  }
 ],
 "metadata": {
  "kernelspec": {
   "display_name": "Python 3",
   "language": "python",
   "name": "python3"
  },
  "language_info": {
   "codemirror_mode": {
    "name": "ipython",
    "version": 3
   },
   "file_extension": ".py",
   "mimetype": "text/x-python",
   "name": "python",
   "nbconvert_exporter": "python",
   "pygments_lexer": "ipython3",
   "version": "3.8.8"
  }
 },
 "nbformat": 4,
 "nbformat_minor": 5
}
